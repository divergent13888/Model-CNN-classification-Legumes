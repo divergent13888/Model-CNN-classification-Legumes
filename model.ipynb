{
 "cells": [
  {
   "cell_type": "markdown",
   "id": "f2f68163-996e-4357-8496-11ddf33d09df",
   "metadata": {},
   "source": [
    "## Depandecies"
   ]
  },
  {
   "cell_type": "code",
   "execution_count": 1,
   "id": "2be5870d-cee8-4719-9202-6b188d9ea772",
   "metadata": {},
   "outputs": [],
   "source": [
    "import tensorflow as tf\n",
    "from tensorflow import keras\n",
    "from keras.layers import Conv2D, MaxPooling2D, Flatten, Dense, Dropout, BatchNormalization\n",
    "from keras.models import Sequential\n",
    "import cv2\n",
    "import glob\n",
    "import numpy as np\n",
    "import matplotlib.pyplot as plt\n",
    "import sys,os\n",
    "from importlib import reload\n"
   ]
  },
  {
   "cell_type": "markdown",
   "id": "c8ef399f-d4c3-4df8-9186-602b554f4f39",
   "metadata": {
    "tags": []
   },
   "source": [
    "## Dataset preprocessing \n"
   ]
  },
  {
   "cell_type": "code",
   "execution_count": 2,
   "id": "68c12d42-2b49-48d6-af11-1fb70985870b",
   "metadata": {},
   "outputs": [],
   "source": [
    "# Resize ALL Images adding a padding black and prepare the data \n",
    "#read all images \n",
    "images_c1 = glob.glob('./Datasets/train/carote/*.jpg')\n",
    "images_c2 = glob.glob('./Datasets/train/onion/*.jpg')\n",
    "images_c3 = glob.glob('./Datasets/train/fenouil/*.jpg')\n",
    "images_c4 = glob.glob('./Datasets/train/potato/*.jpg')\n",
    "images_c5 = glob.glob('./Datasets/train/tomato/*.jpg')\n",
    "images_c6 = glob.glob('./Datasets/train/cucumber/*.jpg')\n",
    "images_c7 = glob.glob('./Datasets/train/choufleur/*.jpg')\n",
    "images_c8 = glob.glob('./Datasets/train/poischiche/*.jpg')\n",
    "images_c9 = glob.glob('./Datasets/train/poivron/*.jpg')\n",
    "images_c10 = glob.glob('./Datasets/train/arichou/*.jpg')\n",
    "#prepare the input and output arrays\n",
    "Xtrain = np.zeros((250,128,128,3)) #(image(256*256*3) X, class Y)\n",
    "Ytrain = np.ones((250))\n",
    "Xval = np.zeros((100,128,128,3)) #(image(256*256*3) X, class Y)\n",
    "Yval = np.ones((100))\n",
    "Xtest = np.zeros((50,128,128,3)) #(image(256*256*3) X, class Y)\n",
    "Ytest = np.ones((50))\n",
    "\n",
    "#LOOP THE IMAGES TO RESIZE AND PREPARE THE INPUT AND OUTPUT ARRAYS\n",
    "j =0\n",
    "m=0\n",
    "n=0\n",
    "for i in range(len(images_c1)*10):\n",
    "    images = images_c1\n",
    "    c = 0\n",
    "    if i >= 40 :\n",
    "        images = images_c2 \n",
    "        c = 1\n",
    "    if i >= 80: \n",
    "        images = images_c3\n",
    "        c = 2\n",
    "    if i >= 120: \n",
    "        images = images_c4\n",
    "        c = 3\n",
    "    if i >= 160: \n",
    "        images = images_c5\n",
    "        c = 4\n",
    "    if i >= 200: \n",
    "        images = images_c6\n",
    "        c = 5\n",
    "    if i >= 240: \n",
    "        images = images_c7\n",
    "        c = 6\n",
    "    if i >= 280: \n",
    "        images = images_c8\n",
    "        c = 7\n",
    "    if i >= 320: \n",
    "        images = images_c9\n",
    "        c = 8\n",
    "    if i >= 360: \n",
    "        images = images_c10\n",
    "        c = 9\n",
    "    img = cv2.imread(images[i%40])\n",
    "    imgF = np.ones((512,512,3),np.uint8)*0\n",
    "    imgF[0:min(img.shape[0],512),0:min(img.shape[1],512),:] = img[0:min(img.shape[0],512),0:min(img.shape[1],512),:]\n",
    "    imgF = cv2.resize(imgF, (0, 0), fx = 0.25, fy = 0.25)\n",
    "    if (i%40) < 25: \n",
    "        Xtrain[j] = imgF\n",
    "        Ytrain[j] = c\n",
    "        j = j+1\n",
    "    elif (i%40) < 35 :\n",
    "        Xval[m] = imgF\n",
    "        Yval[m] = c\n",
    "        m = m + 1 \n",
    "    else : \n",
    "        Xtest[n] = imgF\n",
    "        Ytest[n] = c\n",
    "        n = n + 1 \n"
   ]
  },
  {
   "cell_type": "code",
   "execution_count": 3,
   "id": "402cf7ca-9426-4fc9-9b70-59410cc19990",
   "metadata": {},
   "outputs": [
    {
     "name": "stdout",
     "output_type": "stream",
     "text": [
      "255.0\n",
      "1.0\n"
     ]
    }
   ],
   "source": [
    "## NORMALIZE THE DATASETS\n",
    "print(np.max(Xtrain))\n",
    "Xtrain = Xtrain / np.max(Xtrain)\n",
    "Xval = Xval / np.max(Xtrain)\n",
    "Xtest = Xtest / np.max(Xtrain)\n",
    "print(np.max(Xtrain))\n"
   ]
  },
  {
   "cell_type": "code",
   "execution_count": 4,
   "id": "aef58be3-e901-4e63-9c00-d39ab0f8040f",
   "metadata": {},
   "outputs": [
    {
     "name": "stdout",
     "output_type": "stream",
     "text": [
      "250\n",
      "100\n",
      "50\n"
     ]
    }
   ],
   "source": [
    "print(j)\n",
    "print(m)\n",
    "print(n)"
   ]
  },
  {
   "cell_type": "markdown",
   "id": "d5979880-0bc9-42ec-b663-94de6b16c132",
   "metadata": {},
   "source": [
    "## The model"
   ]
  },
  {
   "cell_type": "code",
   "execution_count": 5,
   "id": "944d2d65-d652-4df3-9628-b75ae1048c79",
   "metadata": {},
   "outputs": [
    {
     "name": "stdout",
     "output_type": "stream",
     "text": [
      "Model: \"sequential\"\n",
      "_________________________________________________________________\n",
      " Layer (type)                Output Shape              Param #   \n",
      "=================================================================\n",
      " conv2d (Conv2D)             (None, 128, 128, 32)      896       \n",
      "                                                                 \n",
      " conv2d_1 (Conv2D)           (None, 128, 128, 64)      18496     \n",
      "                                                                 \n",
      " max_pooling2d (MaxPooling2D  (None, 64, 64, 64)       0         \n",
      " )                                                               \n",
      "                                                                 \n",
      " conv2d_2 (Conv2D)           (None, 64, 64, 128)       73856     \n",
      "                                                                 \n",
      " max_pooling2d_1 (MaxPooling  (None, 32, 32, 128)      0         \n",
      " 2D)                                                             \n",
      "                                                                 \n",
      " flatten (Flatten)           (None, 131072)            0         \n",
      "                                                                 \n",
      " dense (Dense)               (None, 512)               67109376  \n",
      "                                                                 \n",
      " dense_1 (Dense)             (None, 128)               65664     \n",
      "                                                                 \n",
      " dense_2 (Dense)             (None, 10)                1290      \n",
      "                                                                 \n",
      "=================================================================\n",
      "Total params: 67,269,578\n",
      "Trainable params: 67,269,578\n",
      "Non-trainable params: 0\n",
      "_________________________________________________________________\n"
     ]
    }
   ],
   "source": [
    "\n",
    "output_class = 10\n",
    "model = Sequential()\n",
    "\n",
    "model.add(Conv2D(32, (3, 3), activation='relu',padding=\"same\", input_shape=(Xtrain.shape[1], Xtrain.shape[2], Xtrain.shape[3])))\n",
    "model.add(Conv2D(64, (3, 3),padding=\"same\", activation='relu'))\n",
    "model.add(MaxPooling2D((2, 2)))\n",
    "model.add(Conv2D(128, (3, 3), padding=\"same\", activation='relu'))\n",
    "model.add(MaxPooling2D((2, 2)))\n",
    "model.add(Flatten())\n",
    "model.add(Dense(512, activation='relu'))\n",
    "model.add(Dense(128, activation='relu'))\n",
    "model.add(Dense(output_class, activation='softmax'))\n",
    "\n",
    "model.compile(optimizer='adam',\n",
    "              loss= tf.keras.losses.SparseCategoricalCrossentropy(),\n",
    "              metrics=['accuracy'])\n",
    "model.summary()\n"
   ]
  },
  {
   "cell_type": "markdown",
   "id": "4c2d76be-9da4-4c14-9005-553c42604798",
   "metadata": {},
   "source": [
    "## Train the model"
   ]
  },
  {
   "cell_type": "code",
   "execution_count": 6,
   "id": "cd83feb1-2cb4-45b5-98a3-57bdde93eaeb",
   "metadata": {},
   "outputs": [
    {
     "name": "stdout",
     "output_type": "stream",
     "text": [
      "Epoch 1/50\n",
      "3/3 [==============================] - 15s 4s/step - loss: 2.7280 - accuracy: 0.1120 - val_loss: 197.3798 - val_accuracy: 0.2400\n",
      "Epoch 2/50\n",
      "3/3 [==============================] - 17s 6s/step - loss: 2.0145 - accuracy: 0.2560 - val_loss: 138.4901 - val_accuracy: 0.2400\n",
      "Epoch 3/50\n",
      "3/3 [==============================] - 17s 5s/step - loss: 1.6202 - accuracy: 0.4040 - val_loss: 191.7647 - val_accuracy: 0.3500\n",
      "Epoch 4/50\n",
      "3/3 [==============================] - 15s 4s/step - loss: 1.1897 - accuracy: 0.5680 - val_loss: 196.3738 - val_accuracy: 0.4500\n",
      "Epoch 5/50\n",
      "3/3 [==============================] - 11s 3s/step - loss: 0.9608 - accuracy: 0.7080 - val_loss: 204.9694 - val_accuracy: 0.4500\n",
      "Epoch 6/50\n",
      "3/3 [==============================] - 11s 3s/step - loss: 0.7551 - accuracy: 0.7920 - val_loss: 262.7328 - val_accuracy: 0.5000\n",
      "Epoch 7/50\n",
      "3/3 [==============================] - 17s 7s/step - loss: 0.6460 - accuracy: 0.8080 - val_loss: 287.7118 - val_accuracy: 0.4700\n",
      "Epoch 8/50\n",
      "3/3 [==============================] - 31s 10s/step - loss: 0.4201 - accuracy: 0.8520 - val_loss: 240.9522 - val_accuracy: 0.4700\n",
      "Epoch 9/50\n",
      "3/3 [==============================] - 29s 9s/step - loss: 0.2551 - accuracy: 0.9480 - val_loss: 350.7149 - val_accuracy: 0.5100\n",
      "Epoch 10/50\n",
      "3/3 [==============================] - 30s 9s/step - loss: 0.1849 - accuracy: 0.9240 - val_loss: 406.4241 - val_accuracy: 0.5000\n",
      "Epoch 11/50\n",
      "3/3 [==============================] - 30s 9s/step - loss: 0.1083 - accuracy: 0.9600 - val_loss: 352.1335 - val_accuracy: 0.5400\n",
      "Epoch 12/50\n",
      "3/3 [==============================] - 30s 9s/step - loss: 0.0529 - accuracy: 0.9960 - val_loss: 394.3944 - val_accuracy: 0.5600\n",
      "Epoch 13/50\n",
      "3/3 [==============================] - 30s 10s/step - loss: 0.0456 - accuracy: 0.9880 - val_loss: 439.2092 - val_accuracy: 0.4800\n",
      "Epoch 14/50\n",
      "3/3 [==============================] - 30s 10s/step - loss: 0.0385 - accuracy: 0.9760 - val_loss: 528.9995 - val_accuracy: 0.5400\n",
      "Epoch 15/50\n",
      "3/3 [==============================] - 30s 9s/step - loss: 0.0376 - accuracy: 0.9920 - val_loss: 559.7428 - val_accuracy: 0.5300\n",
      "Epoch 16/50\n",
      "3/3 [==============================] - 30s 10s/step - loss: 0.0471 - accuracy: 0.9760 - val_loss: 500.0213 - val_accuracy: 0.5600\n",
      "Epoch 17/50\n",
      "3/3 [==============================] - 31s 10s/step - loss: 0.0412 - accuracy: 0.9880 - val_loss: 442.5258 - val_accuracy: 0.5600\n",
      "Epoch 18/50\n",
      "3/3 [==============================] - 30s 10s/step - loss: 0.0129 - accuracy: 0.9960 - val_loss: 727.9598 - val_accuracy: 0.5300\n",
      "Epoch 19/50\n",
      "3/3 [==============================] - 30s 10s/step - loss: 0.0496 - accuracy: 0.9880 - val_loss: 748.4656 - val_accuracy: 0.4800\n",
      "Epoch 20/50\n",
      "3/3 [==============================] - 29s 9s/step - loss: 0.0398 - accuracy: 0.9920 - val_loss: 635.0144 - val_accuracy: 0.4900\n",
      "Epoch 21/50\n",
      "3/3 [==============================] - 30s 9s/step - loss: 0.0157 - accuracy: 0.9960 - val_loss: 537.5041 - val_accuracy: 0.5000\n",
      "Epoch 22/50\n",
      "3/3 [==============================] - 30s 9s/step - loss: 0.0039 - accuracy: 1.0000 - val_loss: 538.4511 - val_accuracy: 0.5500\n",
      "Epoch 23/50\n",
      "3/3 [==============================] - 30s 9s/step - loss: 0.0180 - accuracy: 0.9960 - val_loss: 575.5720 - val_accuracy: 0.5500\n",
      "Epoch 24/50\n",
      "3/3 [==============================] - 30s 10s/step - loss: 0.0035 - accuracy: 1.0000 - val_loss: 742.8442 - val_accuracy: 0.5200\n",
      "Epoch 25/50\n",
      "3/3 [==============================] - 30s 9s/step - loss: 0.0137 - accuracy: 0.9960 - val_loss: 693.0315 - val_accuracy: 0.5100\n",
      "Epoch 26/50\n",
      "3/3 [==============================] - 30s 9s/step - loss: 0.0022 - accuracy: 1.0000 - val_loss: 640.6829 - val_accuracy: 0.5700\n",
      "Epoch 27/50\n",
      "3/3 [==============================] - 30s 9s/step - loss: 0.0022 - accuracy: 1.0000 - val_loss: 643.8114 - val_accuracy: 0.6100\n",
      "Epoch 28/50\n",
      "3/3 [==============================] - 30s 9s/step - loss: 0.0021 - accuracy: 1.0000 - val_loss: 671.3223 - val_accuracy: 0.6200\n",
      "Epoch 29/50\n",
      "3/3 [==============================] - 30s 10s/step - loss: 0.0018 - accuracy: 1.0000 - val_loss: 694.9457 - val_accuracy: 0.5900\n",
      "Epoch 30/50\n",
      "3/3 [==============================] - 30s 9s/step - loss: 0.0015 - accuracy: 1.0000 - val_loss: 696.9178 - val_accuracy: 0.6000\n",
      "Epoch 31/50\n",
      "3/3 [==============================] - 31s 10s/step - loss: 4.0945e-04 - accuracy: 1.0000 - val_loss: 703.8187 - val_accuracy: 0.6000\n",
      "Epoch 32/50\n",
      "3/3 [==============================] - 30s 9s/step - loss: 2.1841e-04 - accuracy: 1.0000 - val_loss: 710.4572 - val_accuracy: 0.5700\n",
      "Epoch 33/50\n",
      "3/3 [==============================] - 30s 9s/step - loss: 1.7939e-04 - accuracy: 1.0000 - val_loss: 721.5533 - val_accuracy: 0.5700\n",
      "Epoch 34/50\n",
      "3/3 [==============================] - 30s 9s/step - loss: 1.6979e-04 - accuracy: 1.0000 - val_loss: 731.2335 - val_accuracy: 0.5600\n",
      "Epoch 35/50\n",
      "3/3 [==============================] - 30s 9s/step - loss: 1.6431e-04 - accuracy: 1.0000 - val_loss: 740.1783 - val_accuracy: 0.5600\n",
      "Epoch 36/50\n",
      "3/3 [==============================] - 30s 10s/step - loss: 1.5235e-04 - accuracy: 1.0000 - val_loss: 748.1868 - val_accuracy: 0.5600\n",
      "Epoch 37/50\n",
      "3/3 [==============================] - 31s 10s/step - loss: 1.3308e-04 - accuracy: 1.0000 - val_loss: 755.6282 - val_accuracy: 0.5500\n",
      "Epoch 38/50\n",
      "3/3 [==============================] - 30s 10s/step - loss: 1.1449e-04 - accuracy: 1.0000 - val_loss: 762.5109 - val_accuracy: 0.5600\n",
      "Epoch 39/50\n",
      "3/3 [==============================] - 30s 10s/step - loss: 9.7811e-05 - accuracy: 1.0000 - val_loss: 769.0383 - val_accuracy: 0.5600\n",
      "Epoch 40/50\n",
      "3/3 [==============================] - 28s 8s/step - loss: 8.6950e-05 - accuracy: 1.0000 - val_loss: 775.0372 - val_accuracy: 0.5600\n",
      "Epoch 41/50\n",
      "3/3 [==============================] - 23s 9s/step - loss: 7.8963e-05 - accuracy: 1.0000 - val_loss: 780.4050 - val_accuracy: 0.5600\n",
      "Epoch 42/50\n",
      "3/3 [==============================] - 26s 8s/step - loss: 7.1819e-05 - accuracy: 1.0000 - val_loss: 784.8265 - val_accuracy: 0.5600\n",
      "Epoch 43/50\n",
      "3/3 [==============================] - 20s 6s/step - loss: 6.7533e-05 - accuracy: 1.0000 - val_loss: 788.6488 - val_accuracy: 0.5600\n",
      "Epoch 44/50\n",
      "3/3 [==============================] - 24s 8s/step - loss: 6.3542e-05 - accuracy: 1.0000 - val_loss: 791.9115 - val_accuracy: 0.5600\n",
      "Epoch 45/50\n",
      "3/3 [==============================] - 24s 8s/step - loss: 6.1073e-05 - accuracy: 1.0000 - val_loss: 794.6722 - val_accuracy: 0.5700\n",
      "Epoch 46/50\n",
      "3/3 [==============================] - 24s 8s/step - loss: 5.8378e-05 - accuracy: 1.0000 - val_loss: 797.1475 - val_accuracy: 0.5700\n",
      "Epoch 47/50\n",
      "3/3 [==============================] - 24s 8s/step - loss: 5.6208e-05 - accuracy: 1.0000 - val_loss: 799.3276 - val_accuracy: 0.5700\n",
      "Epoch 48/50\n",
      "3/3 [==============================] - 24s 8s/step - loss: 5.4141e-05 - accuracy: 1.0000 - val_loss: 801.2075 - val_accuracy: 0.5700\n",
      "Epoch 49/50\n",
      "3/3 [==============================] - 24s 8s/step - loss: 5.2258e-05 - accuracy: 1.0000 - val_loss: 802.9219 - val_accuracy: 0.5700\n",
      "Epoch 50/50\n",
      "3/3 [==============================] - 24s 8s/step - loss: 5.0627e-05 - accuracy: 1.0000 - val_loss: 804.5881 - val_accuracy: 0.5700\n",
      "Test loss     : 767.6163940429688\n",
      "Test accuracy : 0.6800000071525574\n"
     ]
    }
   ],
   "source": [
    "batch_size  = 100\n",
    "epochs      = 50\n",
    "\n",
    "history = model.fit(  Xtrain, Ytrain,\n",
    "                      batch_size      = batch_size,\n",
    "                      epochs          = epochs,\n",
    "                      validation_data = (Xval, Yval))\n",
    "score = model.evaluate(Xtest, Ytest, verbose=0)\n",
    "\n",
    "print('Test loss     :', score[0])\n",
    "print('Test accuracy :', score[1])"
   ]
  },
  {
   "cell_type": "code",
   "execution_count": 7,
   "id": "1f46bf3b-fe79-44d5-86f1-1eca79359e04",
   "metadata": {},
   "outputs": [
    {
     "data": {
      "image/png": "[encoded data removed]",
      "text/plain": [
       "<Figure size 432x288 with 1 Axes>"
      ]
     },
     "metadata": {
      "needs_background": "light"
     },
     "output_type": "display_data"
    },
    {
     "data": {
      "image/png": "[encoded data removed]",
      "text/plain": [
       "<Figure size 432x288 with 1 Axes>"
      ]
     },
     "metadata": {
      "needs_background": "light"
     },
     "output_type": "display_data"
    }
   ],
   "source": [
    "# summarize history for accuracy\n",
    "plt.plot(history.history['accuracy'])\n",
    "plt.plot(history.history['val_accuracy'])\n",
    "plt.title('model accuracy')\n",
    "plt.ylabel('accuracy')\n",
    "plt.xlabel('epoch')\n",
    "plt.legend(['train', 'test'], loc='upper left')\n",
    "plt.show()\n",
    "# summarize history for loss\n",
    "plt.plot(history.history['loss'])\n",
    "plt.plot(history.history['val_loss'])\n",
    "plt.title('model loss')\n",
    "plt.ylabel('loss')\n",
    "plt.xlabel('epoch')\n",
    "plt.legend(['train', 'test'], loc='upper left')\n",
    "plt.show()"
   ]
  },
  {
   "cell_type": "code",
   "execution_count": 8,
   "id": "515b6ea8-48aa-4378-81c7-12ea85b88338",
   "metadata": {},
   "outputs": [
    {
     "name": "stdout",
     "output_type": "stream",
     "text": [
      "2/2 [==============================] - 1s 301ms/step\n"
     ]
    },
    {
     "data": {
      "text/plain": [
       "array([[0., 1., 0., 0., 0., 0., 0., 0., 0., 0.],\n",
       "       [1., 0., 0., 0., 0., 0., 0., 0., 0., 0.],\n",
       "       [1., 0., 0., 0., 0., 0., 0., 0., 0., 0.],\n",
       "       [1., 0., 0., 0., 0., 0., 0., 0., 0., 0.],\n",
       "       [0., 0., 0., 0., 1., 0., 0., 0., 0., 0.],\n",
       "       [0., 1., 0., 0., 0., 0., 0., 0., 0., 0.],\n",
       "       [0., 0., 0., 0., 0., 0., 0., 0., 1., 0.],\n",
       "       [0., 1., 0., 0., 0., 0., 0., 0., 0., 0.],\n",
       "       [0., 0., 0., 0., 1., 0., 0., 0., 0., 0.],\n",
       "       [0., 1., 0., 0., 0., 0., 0., 0., 0., 0.],\n",
       "       [0., 0., 1., 0., 0., 0., 0., 0., 0., 0.],\n",
       "       [0., 0., 1., 0., 0., 0., 0., 0., 0., 0.],\n",
       "       [0., 0., 1., 0., 0., 0., 0., 0., 0., 0.],\n",
       "       [0., 1., 0., 0., 0., 0., 0., 0., 0., 0.],\n",
       "       [0., 0., 1., 0., 0., 0., 0., 0., 0., 0.],\n",
       "       [0., 0., 0., 1., 0., 0., 0., 0., 0., 0.],\n",
       "       [0., 1., 0., 0., 0., 0., 0., 0., 0., 0.],\n",
       "       [0., 0., 0., 1., 0., 0., 0., 0., 0., 0.],\n",
       "       [1., 0., 0., 0., 0., 0., 0., 0., 0., 0.],\n",
       "       [0., 0., 0., 1., 0., 0., 0., 0., 0., 0.],\n",
       "       [0., 0., 0., 0., 0., 0., 0., 0., 1., 0.],\n",
       "       [0., 0., 0., 0., 0., 0., 1., 0., 0., 0.],\n",
       "       [0., 0., 0., 0., 1., 0., 0., 0., 0., 0.],\n",
       "       [1., 0., 0., 0., 0., 0., 0., 0., 0., 0.],\n",
       "       [0., 0., 0., 0., 1., 0., 0., 0., 0., 0.],\n",
       "       [0., 0., 0., 0., 0., 0., 0., 1., 0., 0.],\n",
       "       [0., 0., 0., 0., 0., 0., 0., 1., 0., 0.],\n",
       "       [0., 0., 0., 0., 0., 0., 0., 0., 0., 1.],\n",
       "       [0., 0., 0., 0., 0., 0., 0., 1., 0., 0.],\n",
       "       [0., 0., 0., 0., 0., 0., 0., 1., 0., 0.],\n",
       "       [0., 0., 0., 0., 0., 0., 1., 0., 0., 0.],\n",
       "       [0., 0., 0., 0., 0., 0., 1., 0., 0., 0.],\n",
       "       [0., 0., 0., 0., 0., 0., 1., 0., 0., 0.],\n",
       "       [0., 0., 0., 0., 0., 0., 1., 0., 0., 0.],\n",
       "       [0., 0., 0., 0., 0., 0., 1., 0., 0., 0.],\n",
       "       [0., 0., 0., 0., 0., 0., 0., 1., 0., 0.],\n",
       "       [0., 0., 0., 0., 0., 0., 0., 1., 0., 0.],\n",
       "       [0., 0., 0., 0., 0., 0., 0., 1., 0., 0.],\n",
       "       [0., 0., 0., 0., 0., 0., 0., 1., 0., 0.],\n",
       "       [0., 0., 0., 0., 0., 0., 0., 1., 0., 0.],\n",
       "       [0., 0., 0., 0., 0., 0., 0., 0., 1., 0.],\n",
       "       [0., 0., 0., 0., 0., 0., 0., 0., 1., 0.],\n",
       "       [0., 0., 0., 0., 0., 0., 0., 0., 1., 0.],\n",
       "       [0., 0., 0., 0., 0., 0., 0., 0., 1., 0.],\n",
       "       [0., 0., 0., 0., 0., 0., 0., 0., 0., 1.],\n",
       "       [0., 0., 0., 0., 0., 0., 0., 0., 0., 1.],\n",
       "       [0., 0., 0., 0., 0., 0., 0., 0., 0., 1.],\n",
       "       [0., 0., 0., 0., 0., 0., 0., 0., 0., 1.],\n",
       "       [0., 0., 0., 0., 0., 0., 0., 0., 0., 1.],\n",
       "       [0., 0., 0., 0., 0., 0., 0., 0., 0., 1.]], dtype=float32)"
      ]
     },
     "execution_count": 8,
     "metadata": {},
     "output_type": "execute_result"
    }
   ],
   "source": [
    "np.round(model.predict(Xtest))\n"
   ]
  },
  {
   "cell_type": "code",
   "execution_count": null,
   "id": "fa9ecaec-9bd1-4b26-88c4-651cda2f102c",
   "metadata": {},
   "outputs": [],
   "source": []
  },
  {
   "cell_type": "code",
   "execution_count": null,
   "id": "cf15bae4-e9fc-4ee9-bc1a-5b14e2ec7d57",
   "metadata": {},
   "outputs": [],
   "source": []
  }
 ],
 "metadata": {
  "kernelspec": {
   "display_name": "Python 3 (ipykernel)",
   "language": "python",
   "name": "python3"
  },
  "language_info": {
   "codemirror_mode": {
    "name": "ipython",
    "version": 3
   },
   "file_extension": ".py",
   "mimetype": "text/x-python",
   "name": "python",
   "nbconvert_exporter": "python",
   "pygments_lexer": "ipython3",
   "version": "3.7.11"
  }
 },
 "nbformat": 4,
 "nbformat_minor": 5
}
